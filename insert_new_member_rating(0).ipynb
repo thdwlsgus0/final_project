{
 "cells": [
  {
   "cell_type": "code",
   "execution_count": 2,
   "metadata": {},
   "outputs": [],
   "source": [
    "from numpy import dot\n",
    "from numpy.linalg import norm\n",
    "import numpy as np\n",
    "import pandas as pd \n",
    "from pandas import DataFrame\n",
    "import json \n",
    "import cx_Oracle\n",
    "import os\n",
    "\n",
    "\n",
    "# def insert(MEM_ID):\n",
    "#     conn = cx_Oracle.connect(\"admin/operwhe10@database-2.c2xjfsjmjzmt.ap-northeast-2.rds.amazonaws.com:1521/ORCL\")\n",
    "#     cursor = conn.cursor()\n",
    "#     rows = \"select count(RECIPE_ID) from recipe_info\"\n",
    "#     for row in range(rows):\n",
    "#         sql=\"insert into mem_evaluation values(:1,:2,:3,:4)\"\n",
    "#         IMG_URL = \"select IMG_URL from recipe_info where recipe_id = row+1\"\n",
    "#         data=(MEM_ID,0,IMG_URL,row+1)\n",
    "#         cursor.execute(sql,data)\n",
    "#     cursor.close()\n",
    "#     conn.close()"
   ]
  },
  {
   "cell_type": "code",
   "execution_count": 21,
   "metadata": {},
   "outputs": [
    {
     "name": "stdout",
     "output_type": "stream",
     "text": [
      "455\n"
     ]
    }
   ],
   "source": [
    "# 회원가입 멤버 기준 모든 레이팅 값을 0으로 만든다.\n",
    "# 코싸인 유사도를 위함.\n",
    "# mem_evaluation의 RECIPE_ID 값이 \n",
    "# RECIPE_INFO 테이블의 SEQ값임\n",
    "# 향후 조인할 때 참고.\n",
    "\n",
    "conn = cx_Oracle.connect(\"admin/operwhe10@database-2.c2xjfsjmjzmt.ap-northeast-2.rds.amazonaws.com:1521/ORCL\")\n",
    "cursor = conn.cursor()\n",
    "cursor.execute(\"select count(RECIPE_ID) from recipe_info\")\n",
    "rows = cursor.fetchall()\n",
    "rows = rows[0][0]\n",
    "print(rows)\n",
    "MEM_ID = \"imgentleman10\"\n",
    "for row in range(rows):\n",
    "    sql=\"insert into mem_evaluation values(:1,:2,:3,:4)\"\n",
    "    IMG_URL = \"select IMG_URL from recipe_info where SEQ = row+1\"\n",
    "    data=(MEM_ID,0,IMG_URL,row+1)\n",
    "    cursor.execute(sql,data)\n",
    "cursor.close()\n",
    "conn.commit()\n",
    "conn.close()\n",
    "\n"
   ]
  },
  {
   "cell_type": "code",
   "execution_count": 16,
   "metadata": {},
   "outputs": [],
   "source": [
    "# 가입한 회원의 레이팅을 모두 삭제\n",
    "# 테스트 때 사용한 코드이고, 실제로 사용되지는 않을 듯?\n",
    "\n",
    "# conn = cx_Oracle.connect(\"admin/operwhe10@database-2.c2xjfsjmjzmt.ap-northeast-2.rds.amazonaws.com:1521/ORCL\")\n",
    "# cursor = conn.cursor()\n",
    "# cursor.execute(\"delete mem_evaluation where MEM_ID = 'imgentleman10'\")\n",
    "# cursor.close()\n",
    "# conn.commit()\n",
    "# conn.close()"
   ]
  },
  {
   "cell_type": "code",
   "execution_count": null,
   "metadata": {},
   "outputs": [],
   "source": []
  }
 ],
 "metadata": {
  "kernelspec": {
   "display_name": "Python 3",
   "language": "python",
   "name": "python3"
  },
  "language_info": {
   "codemirror_mode": {
    "name": "ipython",
    "version": 3
   },
   "file_extension": ".py",
   "mimetype": "text/x-python",
   "name": "python",
   "nbconvert_exporter": "python",
   "pygments_lexer": "ipython3",
   "version": "3.7.6"
  }
 },
 "nbformat": 4,
 "nbformat_minor": 4
}
