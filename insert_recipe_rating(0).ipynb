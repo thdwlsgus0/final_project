{
 "cells": [
  {
   "cell_type": "code",
   "execution_count": 2,
   "metadata": {},
   "outputs": [],
   "source": [
    "from numpy import dot\n",
    "from numpy.linalg import norm\n",
    "import numpy as np\n",
    "import pandas as pd \n",
    "from pandas import DataFrame\n",
    "import json \n",
    "import cx_Oracle\n",
    "import os"
   ]
  },
  {
   "cell_type": "code",
   "execution_count": 46,
   "metadata": {
    "scrolled": true
   },
   "outputs": [
    {
     "name": "stdout",
     "output_type": "stream",
     "text": [
      "455\n"
     ]
    },
    {
     "ename": "IntegrityError",
     "evalue": "ORA-00001: 무결성 제약 조건(ADMIN.PK_MEM_EVALUATION)에 위배됩니다",
     "output_type": "error",
     "traceback": [
      "\u001b[1;31m---------------------------------------------------------------------------\u001b[0m",
      "\u001b[1;31mIntegrityError\u001b[0m                            Traceback (most recent call last)",
      "\u001b[1;32m<ipython-input-46-14049ba25824>\u001b[0m in \u001b[0;36m<module>\u001b[1;34m\u001b[0m\n\u001b[0;32m     18\u001b[0m     \u001b[0mIMG_URL\u001b[0m \u001b[1;33m=\u001b[0m \u001b[1;34m\"https://\"\u001b[0m\u001b[1;33m\u001b[0m\u001b[1;33m\u001b[0m\u001b[0m\n\u001b[0;32m     19\u001b[0m     \u001b[0mdata\u001b[0m \u001b[1;33m=\u001b[0m \u001b[1;33m(\u001b[0m\u001b[0mmem\u001b[0m\u001b[1;33m[\u001b[0m\u001b[0mi\u001b[0m\u001b[1;33m]\u001b[0m\u001b[1;33m[\u001b[0m\u001b[1;36m0\u001b[0m\u001b[1;33m]\u001b[0m\u001b[1;33m,\u001b[0m\u001b[1;36m0\u001b[0m\u001b[1;33m,\u001b[0m\u001b[0mIMG_URL\u001b[0m\u001b[1;33m,\u001b[0m\u001b[0mj\u001b[0m\u001b[1;33m+\u001b[0m\u001b[1;36m1\u001b[0m\u001b[1;33m)\u001b[0m\u001b[1;33m\u001b[0m\u001b[1;33m\u001b[0m\u001b[0m\n\u001b[1;32m---> 20\u001b[1;33m     \u001b[0mcursor\u001b[0m\u001b[1;33m.\u001b[0m\u001b[0mexecute\u001b[0m\u001b[1;33m(\u001b[0m\u001b[0msql\u001b[0m\u001b[1;33m,\u001b[0m\u001b[0mdata\u001b[0m\u001b[1;33m)\u001b[0m\u001b[1;33m\u001b[0m\u001b[1;33m\u001b[0m\u001b[0m\n\u001b[0m\u001b[0;32m     21\u001b[0m \u001b[1;33m\u001b[0m\u001b[0m\n\u001b[0;32m     22\u001b[0m \u001b[0mcursor\u001b[0m\u001b[1;33m.\u001b[0m\u001b[0mclose\u001b[0m\u001b[1;33m(\u001b[0m\u001b[1;33m)\u001b[0m\u001b[1;33m\u001b[0m\u001b[1;33m\u001b[0m\u001b[0m\n",
      "\u001b[1;31mIntegrityError\u001b[0m: ORA-00001: 무결성 제약 조건(ADMIN.PK_MEM_EVALUATION)에 위배됩니다"
     ]
    }
   ],
   "source": [
    "# 목표 : 레시피가 추가될 시, 전체 회원에 대한 평가를 0점으로 맞춘다.\n",
    "\n",
    "# 사용자, 관리자가 레시피 추가시 아래 코드가 반드시 실행되어야 한다.\n",
    "# 아래 코드 미실행 시, 코싸인 유사도를 비롯한 모든 추천 프로그램이 에러날 수 있음.\n",
    "conn = cx_Oracle.connect(\"admin/operwhe10@database-2.c2xjfsjmjzmt.ap-northeast-2.rds.amazonaws.com:1521/ORCL\")\n",
    "cursor = conn.cursor()\n",
    "\n",
    "cursor.execute(\"select count(seq) from recipe_info\")\n",
    "rows = cursor.fetchall()\n",
    "rows= rows[0][0]\n",
    "print(rows)\n",
    "\n",
    "cursor.execute(\"select mem_id from member\")\n",
    "mem = cursor.fetchall()\n",
    "cursor.execute(\"select count(mem_id) from member\")\n",
    "mem_count = cursor.fetchall()\n",
    "\n",
    "for i in range(mem_count[0][0]):\n",
    "    j = rows\n",
    "    sql= \"insert into mem_evaluation values(:1,:2,:3,:4)\"\n",
    "    IMG_URL = \"https://\"\n",
    "    data = (mem[i][0],0,IMG_URL,j+1)\n",
    "    cursor.execute(sql,data)\n",
    "    \n",
    "cursor.close()\n",
    "conn.commit()\n",
    "conn.close()"
   ]
  }
 ],
 "metadata": {
  "kernelspec": {
   "display_name": "Python 3",
   "language": "python",
   "name": "python3"
  },
  "language_info": {
   "codemirror_mode": {
    "name": "ipython",
    "version": 3
   },
   "file_extension": ".py",
   "mimetype": "text/x-python",
   "name": "python",
   "nbconvert_exporter": "python",
   "pygments_lexer": "ipython3",
   "version": "3.7.6"
  }
 },
 "nbformat": 4,
 "nbformat_minor": 4
}
